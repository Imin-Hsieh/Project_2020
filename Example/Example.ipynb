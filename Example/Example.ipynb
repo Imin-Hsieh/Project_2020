{
 "cells": [
  {
   "cell_type": "markdown",
   "metadata": {},
   "source": [
    "## 套件匯入 "
   ]
  },
  {
   "cell_type": "code",
   "execution_count": 9,
   "metadata": {},
   "outputs": [],
   "source": [
    "from selenium import webdriver\n",
    "from bs4 import BeautifulSoup\n",
    "from time import sleep\n",
    "import pandas as pd\n",
    "import numpy as np"
   ]
  },
  {
   "cell_type": "markdown",
   "metadata": {},
   "source": [
    "## 啟動瀏覽器（https://law.judicial.gov.tw/FJUD/default.aspx )"
   ]
  },
  {
   "cell_type": "code",
   "execution_count": 10,
   "metadata": {},
   "outputs": [],
   "source": [
    "# 司法院官網\n",
    "link = 'https://law.judicial.gov.tw/FJUD/default.aspx'\n",
    "options = webdriver.ChromeOptions() \n",
    "options.add_argument(\"start-maximized\")\n",
    "options.add_experimental_option('useAutomationExtension', False)\n",
    "driver = webdriver.Chrome(options=options)\n",
    "driver.get(link)\n",
    "\n",
    "# 定位輸入框，寫入搜尋 <關鍵字>\n",
    "TEXT = '證券詐欺'\n",
    "sleep(2)\n",
    "driver.find_element_by_id('txtKW').send_keys(TEXT)\n",
    "driver.find_element_by_id('btnSimpleQry').click()\n",
    "\n",
    "# 等待載入，選擇最高法院（若有）\n",
    "try:\n",
    "    driver.find_element_by_xpath(\"//div[@class='panel-body']   \\\n",
    "    //li/a[contains(text(),'最高法院')]\").click()\n",
    "except NoSuchElementException:\n",
    "    pass"
   ]
  },
  {
   "cell_type": "markdown",
   "metadata": {},
   "source": [
    "## 網頁檢索/爬蟲 "
   ]
  },
  {
   "cell_type": "code",
   "execution_count": 11,
   "metadata": {},
   "outputs": [],
   "source": [
    "# 由於定位資料於 iframe 內\n",
    "# 因此需要告知瀏覽器切換到 iframe 嵌入框才能進行定位\n",
    "iframe = driver.find_element_by_xpath(\"//iframe\")\n",
    "driver.switch_to.frame(iframe)\n",
    "\n",
    "# 建立須被彈性設定之變數\n",
    "html_text = list()\n",
    "status = True\n",
    "\n",
    "while(status):\n",
    "    html_text.append(driver.page_source)\n",
    "    next_ = driver.find_elements_by_id('hlNext')\n",
    "    if len(next_) != 0:\n",
    "        next_[0].click()\n",
    "    else:\n",
    "        status = False"
   ]
  },
  {
   "cell_type": "markdown",
   "metadata": {},
   "source": [
    "## 內容擷取"
   ]
  },
  {
   "cell_type": "code",
   "execution_count": 12,
   "metadata": {},
   "outputs": [
    {
     "data": {
      "text/plain": [
       "['\\n1.\\n最高法院 109 年度 台上 字第 1719 號刑事判決（29K）\\n109.04.15\\n違反證券交易法等罪\\n',\n",
       " '\\n2.\\n最高法院 108 年度 台上 字第 4056 號刑事判決（29K）\\n109.04.15\\n違反證券交易法等罪\\n',\n",
       " '\\n3.\\n最高法院 108 年度 台上 字第 16 號刑事判決（37K）\\n109.01.16\\n違反證券交易法等罪\\n',\n",
       " '\\n4.\\n最高法院 109 年度 台抗 字第 46 號刑事裁定（5K）\\n109.01.09\\n違反證券交易法等罪不服再執行羈押\\n',\n",
       " '\\n5.\\n最高法院 107 年度 台上 字第 846 號民事判決（11K）\\n108.03.27\\n請求損害賠償\\n',\n",
       " '\\n6.\\n最高法院 108 年度 台抗 字第 355 號刑事裁定（3K）\\n108.03.21\\n違反證券交易法等罪聲請具保停止羈押\\n',\n",
       " '\\n7.\\n最高法院 107 年度 台上 字第 2937 號刑事判決（9K）\\n107.10.11\\n違反證券交易法等罪\\n',\n",
       " '\\n8.\\n最高法院 106 年度 台上 字第 1247 號民事判決（19K）\\n107.03.14\\n請求侵權行為損害賠償\\n',\n",
       " '\\n9.\\n最高法院 106 年度 台上 字第 278 號刑事判決（12K）\\n106.09.28\\n違反證券交易法\\n',\n",
       " '\\n10.\\n最高法院 106 年度 台上 字第 349 號民事判決（17K）\\n106.07.26\\n請求損害賠償\\n']"
      ]
     },
     "execution_count": 12,
     "metadata": {},
     "output_type": "execute_result"
    }
   ],
   "source": [
    "test = list()\n",
    "for i in html_text:\n",
    "    soup = BeautifulSoup(i)\n",
    "    num = 1\n",
    "    while num < len(soup.find_all('tr')):\n",
    "        test.append(soup.find_all('tr')[num].text)\n",
    "        num += 2\n",
    "test[:10]"
   ]
  },
  {
   "cell_type": "markdown",
   "metadata": {},
   "source": [
    "## 資料清整"
   ]
  },
  {
   "cell_type": "code",
   "execution_count": 13,
   "metadata": {},
   "outputs": [],
   "source": [
    "df = pd.Series(test).str.split('\\n', expand=True)\n",
    "df1 = df[2].str.split(' ', expand=True)\n",
    "df2 = df1[6].str.split('（',expand=True).drop(1, axis=1)\n",
    "df2 = pd.DataFrame(df2[0].str[1:])\n",
    "df = df.drop([0,1,2,5], axis=1)\n",
    "df1 = df1.drop([0,2,4,6], axis=1)"
   ]
  },
  {
   "cell_type": "code",
   "execution_count": 14,
   "metadata": {},
   "outputs": [],
   "source": [
    "df_final = pd.concat([df1, df2, df], axis=1)\n",
    "df_final.columns = [\"年度\", \"字號\", \"案號\", \"類型\", \"裁判日期\", \"裁判案由\"]\n",
    "df_final[\"金額\"] = np.random.randint(1000000, 999999999, size=43)"
   ]
  },
  {
   "cell_type": "code",
   "execution_count": 15,
   "metadata": {
    "scrolled": true
   },
   "outputs": [
    {
     "data": {
      "text/html": [
       "<div>\n",
       "<style scoped>\n",
       "    .dataframe tbody tr th:only-of-type {\n",
       "        vertical-align: middle;\n",
       "    }\n",
       "\n",
       "    .dataframe tbody tr th {\n",
       "        vertical-align: top;\n",
       "    }\n",
       "\n",
       "    .dataframe thead th {\n",
       "        text-align: right;\n",
       "    }\n",
       "</style>\n",
       "<table border=\"1\" class=\"dataframe\">\n",
       "  <thead>\n",
       "    <tr style=\"text-align: right;\">\n",
       "      <th></th>\n",
       "      <th>年度</th>\n",
       "      <th>字號</th>\n",
       "      <th>案號</th>\n",
       "      <th>類型</th>\n",
       "      <th>裁判日期</th>\n",
       "      <th>裁判案由</th>\n",
       "      <th>金額</th>\n",
       "    </tr>\n",
       "  </thead>\n",
       "  <tbody>\n",
       "    <tr>\n",
       "      <th>0</th>\n",
       "      <td>109</td>\n",
       "      <td>台上</td>\n",
       "      <td>1719</td>\n",
       "      <td>刑事判決</td>\n",
       "      <td>109.04.15</td>\n",
       "      <td>違反證券交易法等罪</td>\n",
       "      <td>61785382</td>\n",
       "    </tr>\n",
       "    <tr>\n",
       "      <th>1</th>\n",
       "      <td>108</td>\n",
       "      <td>台上</td>\n",
       "      <td>4056</td>\n",
       "      <td>刑事判決</td>\n",
       "      <td>109.04.15</td>\n",
       "      <td>違反證券交易法等罪</td>\n",
       "      <td>573105930</td>\n",
       "    </tr>\n",
       "    <tr>\n",
       "      <th>2</th>\n",
       "      <td>108</td>\n",
       "      <td>台上</td>\n",
       "      <td>16</td>\n",
       "      <td>刑事判決</td>\n",
       "      <td>109.01.16</td>\n",
       "      <td>違反證券交易法等罪</td>\n",
       "      <td>372933046</td>\n",
       "    </tr>\n",
       "    <tr>\n",
       "      <th>3</th>\n",
       "      <td>109</td>\n",
       "      <td>台抗</td>\n",
       "      <td>46</td>\n",
       "      <td>刑事裁定</td>\n",
       "      <td>109.01.09</td>\n",
       "      <td>違反證券交易法等罪不服再執行羈押</td>\n",
       "      <td>898763655</td>\n",
       "    </tr>\n",
       "    <tr>\n",
       "      <th>4</th>\n",
       "      <td>107</td>\n",
       "      <td>台上</td>\n",
       "      <td>846</td>\n",
       "      <td>民事判決</td>\n",
       "      <td>108.03.27</td>\n",
       "      <td>請求損害賠償</td>\n",
       "      <td>75615095</td>\n",
       "    </tr>\n",
       "  </tbody>\n",
       "</table>\n",
       "</div>"
      ],
      "text/plain": [
       "    年度  字號    案號    類型       裁判日期              裁判案由         金額\n",
       "0  109  台上  1719  刑事判決  109.04.15         違反證券交易法等罪   61785382\n",
       "1  108  台上  4056  刑事判決  109.04.15         違反證券交易法等罪  573105930\n",
       "2  108  台上    16  刑事判決  109.01.16         違反證券交易法等罪  372933046\n",
       "3  109  台抗    46  刑事裁定  109.01.09  違反證券交易法等罪不服再執行羈押  898763655\n",
       "4  107  台上   846  民事判決  108.03.27            請求損害賠償   75615095"
      ]
     },
     "execution_count": 15,
     "metadata": {},
     "output_type": "execute_result"
    }
   ],
   "source": [
    "df_final.head()"
   ]
  }
 ],
 "metadata": {
  "kernelspec": {
   "display_name": "Python 3",
   "language": "python",
   "name": "python3"
  },
  "language_info": {
   "codemirror_mode": {
    "name": "ipython",
    "version": 3
   },
   "file_extension": ".py",
   "mimetype": "text/x-python",
   "name": "python",
   "nbconvert_exporter": "python",
   "pygments_lexer": "ipython3",
   "version": "3.7.1"
  }
 },
 "nbformat": 4,
 "nbformat_minor": 2
}
